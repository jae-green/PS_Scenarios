{
 "cells": [
  {
   "cell_type": "markdown",
   "id": "0fbfc16d",
   "metadata": {},
   "source": [
    "# Scenario 2 - Randomized counts for Tableau\n",
    "### For the Digital Health Research Infrastructure Specialist Position\n",
    "\n",
    "**Jessa Green  |  jessa@jessagreen.com  |  (920) 850-4950  |  [My LinkedIn Profile](https://www.linkedin.com/in/jessagreen/)**\n",
    "\n",
    "Below is the process I followed to create a fictional dataset based on numbers I was able to gather from your public information. This dataset was used to populate the tables presented in the Tableau dashboard provided as the solution to Scenario 2 in the interview process.\n",
    "\n",
    "> Note: These are not real data or numbers for The PRIDE Study. Everything shown here is a fictional scenario based a few real-world numbers I gathered."
   ]
  },
  {
   "cell_type": "code",
   "execution_count": 1,
   "id": "44736d60",
   "metadata": {},
   "outputs": [],
   "source": [
    "# Import needed libraries/packages\n",
    "import pandas as pd\n",
    "import numpy as np\n",
    "import random\n",
    "from datetime import datetime\n",
    "import calendar"
   ]
  },
  {
   "cell_type": "code",
   "execution_count": 2,
   "id": "bddd0159",
   "metadata": {},
   "outputs": [
    {
     "name": "stdout",
     "output_type": "stream",
     "text": [
      "This gives us a 'full year' response rate of 0.523 to use for 2018 AQ\n"
     ]
    }
   ],
   "source": [
    "# Create variables based on publicly known PRIDE Studies numbers\n",
    "\n",
    "# Participant mid-year counts from medical journal\n",
    "ps_mid18 = 10952\n",
    "ps_mid19 = 13731\n",
    "# Fictional participant counts created\n",
    "ps_mid20 = 16436\n",
    "ps_mid21 = 19853\n",
    "# Participant count shown in my PS account dashboard on 2022-01-21\n",
    "ps22 = 23952\n",
    "\n",
    "\n",
    "# The PRIDE Study response percentage for the 2017 AQ\n",
    "aq17 = 0.658\n",
    "# The PRIDE Study response percentage for the 2018 AQ (11 month window)\n",
    "aq18pt = 0.479\n",
    "# Create a 12-month percentage based on a basic average\n",
    "aq18 = (aq18pt / 11) * 12\n",
    "print(\"This gives us a 'full year' response rate of {} to use for 2018 AQ\".format(round(aq18, 3)))"
   ]
  },
  {
   "cell_type": "code",
   "execution_count": 3,
   "id": "d3f203a5",
   "metadata": {},
   "outputs": [
    {
     "name": "stdout",
     "output_type": "stream",
     "text": [
      "This gives us response rates of: \n",
      "2019 AQ: 0.730 \n",
      "2020 AQ: 0.464 \n",
      "2021 AQ: 0.748\n"
     ]
    }
   ],
   "source": [
    "# Create fictional response rates for each year post 2018\n",
    "\n",
    "aq19 = np.random.uniform((aq18-0.12), (aq17+0.12))\n",
    "aq20 = np.random.uniform((aq18-0.12), (aq17+0.12))\n",
    "aq21 = np.random.uniform((aq18-0.12), (aq17+0.12))\n",
    "\n",
    "print(\"This gives us response rates of: \\n2019 AQ: {:.3f} \\n2020 AQ: {:.3f} \\n2021 AQ: {:.3f}\".format(aq19, aq20, aq21))\n"
   ]
  },
  {
   "cell_type": "markdown",
   "id": "43594a17",
   "metadata": {},
   "source": [
    "### Create function to generate a set of monthly counts\n",
    "The below function will generate a set of 12 random counts that will total a given amount when summed."
   ]
  },
  {
   "cell_type": "code",
   "execution_count": 4,
   "id": "4d749937",
   "metadata": {},
   "outputs": [],
   "source": [
    "# Now create fictional monthly response counts based on annual numbers\n",
    "\n",
    "def gen_monthly_counts(n, total):\n",
    "# Return a randomly chosen list of n positive integers summing to total.\n",
    "    dividers = sorted(random.sample(range(1, total), n - 1))\n",
    "    return [a - b for a, b in zip(dividers + [total], [0] + dividers)]\n"
   ]
  },
  {
   "cell_type": "code",
   "execution_count": 5,
   "id": "01c68ac4",
   "metadata": {},
   "outputs": [],
   "source": [
    "# Create dictionary of years and counts to create our dataset for Tableau\n",
    "ps_dict = {2018: ps_mid18, 2019: ps_mid19, 2020: ps_mid20, 2021: ps_mid21}\n"
   ]
  },
  {
   "cell_type": "markdown",
   "id": "08e52cc9",
   "metadata": {},
   "source": [
    "### Create the dataset contents\n",
    "Here we generate the entire lists consisting of each of the years, the months, and the participation counts using the monthly randomizer function so that our annual counts match our summed monthly counts for each year."
   ]
  },
  {
   "cell_type": "code",
   "execution_count": 6,
   "id": "942860ca",
   "metadata": {},
   "outputs": [],
   "source": [
    "month_counts = []\n",
    "month_years = []\n",
    "just_years = []\n",
    "\n",
    "for key,value in ps_dict.items():\n",
    "    month_counts.extend(gen_monthly_counts(12, value))\n",
    "    for i in range(12):      \n",
    "        new_date = datetime.strptime((str(i+1) + '/' + str(key)),'%m/%Y').date()\n",
    "        month_years.append(new_date)\n",
    "        just_years.append(key)\n"
   ]
  },
  {
   "cell_type": "code",
   "execution_count": 7,
   "id": "ec1a7b9b",
   "metadata": {},
   "outputs": [],
   "source": [
    "df = pd.DataFrame(list(zip(just_years, month_years, month_counts)))\n",
    "df.columns =['Yr', 'Date', 'Participants']"
   ]
  },
  {
   "cell_type": "code",
   "execution_count": 8,
   "id": "d77ee70c",
   "metadata": {},
   "outputs": [
    {
     "data": {
      "text/html": [
       "<div>\n",
       "<style scoped>\n",
       "    .dataframe tbody tr th:only-of-type {\n",
       "        vertical-align: middle;\n",
       "    }\n",
       "\n",
       "    .dataframe tbody tr th {\n",
       "        vertical-align: top;\n",
       "    }\n",
       "\n",
       "    .dataframe thead th {\n",
       "        text-align: right;\n",
       "    }\n",
       "</style>\n",
       "<table border=\"1\" class=\"dataframe\">\n",
       "  <thead>\n",
       "    <tr style=\"text-align: right;\">\n",
       "      <th></th>\n",
       "      <th>Yr</th>\n",
       "      <th>Date</th>\n",
       "      <th>Participants</th>\n",
       "    </tr>\n",
       "  </thead>\n",
       "  <tbody>\n",
       "    <tr>\n",
       "      <th>0</th>\n",
       "      <td>2018</td>\n",
       "      <td>2018-01-01</td>\n",
       "      <td>1264</td>\n",
       "    </tr>\n",
       "    <tr>\n",
       "      <th>1</th>\n",
       "      <td>2018</td>\n",
       "      <td>2018-02-01</td>\n",
       "      <td>2560</td>\n",
       "    </tr>\n",
       "    <tr>\n",
       "      <th>2</th>\n",
       "      <td>2018</td>\n",
       "      <td>2018-03-01</td>\n",
       "      <td>1998</td>\n",
       "    </tr>\n",
       "    <tr>\n",
       "      <th>3</th>\n",
       "      <td>2018</td>\n",
       "      <td>2018-04-01</td>\n",
       "      <td>99</td>\n",
       "    </tr>\n",
       "    <tr>\n",
       "      <th>4</th>\n",
       "      <td>2018</td>\n",
       "      <td>2018-05-01</td>\n",
       "      <td>837</td>\n",
       "    </tr>\n",
       "    <tr>\n",
       "      <th>5</th>\n",
       "      <td>2018</td>\n",
       "      <td>2018-06-01</td>\n",
       "      <td>102</td>\n",
       "    </tr>\n",
       "    <tr>\n",
       "      <th>6</th>\n",
       "      <td>2018</td>\n",
       "      <td>2018-07-01</td>\n",
       "      <td>844</td>\n",
       "    </tr>\n",
       "    <tr>\n",
       "      <th>7</th>\n",
       "      <td>2018</td>\n",
       "      <td>2018-08-01</td>\n",
       "      <td>2</td>\n",
       "    </tr>\n",
       "    <tr>\n",
       "      <th>8</th>\n",
       "      <td>2018</td>\n",
       "      <td>2018-09-01</td>\n",
       "      <td>2055</td>\n",
       "    </tr>\n",
       "    <tr>\n",
       "      <th>9</th>\n",
       "      <td>2018</td>\n",
       "      <td>2018-10-01</td>\n",
       "      <td>603</td>\n",
       "    </tr>\n",
       "    <tr>\n",
       "      <th>10</th>\n",
       "      <td>2018</td>\n",
       "      <td>2018-11-01</td>\n",
       "      <td>387</td>\n",
       "    </tr>\n",
       "    <tr>\n",
       "      <th>11</th>\n",
       "      <td>2018</td>\n",
       "      <td>2018-12-01</td>\n",
       "      <td>201</td>\n",
       "    </tr>\n",
       "  </tbody>\n",
       "</table>\n",
       "</div>"
      ],
      "text/plain": [
       "      Yr        Date  Participants\n",
       "0   2018  2018-01-01          1264\n",
       "1   2018  2018-02-01          2560\n",
       "2   2018  2018-03-01          1998\n",
       "3   2018  2018-04-01            99\n",
       "4   2018  2018-05-01           837\n",
       "5   2018  2018-06-01           102\n",
       "6   2018  2018-07-01           844\n",
       "7   2018  2018-08-01             2\n",
       "8   2018  2018-09-01          2055\n",
       "9   2018  2018-10-01           603\n",
       "10  2018  2018-11-01           387\n",
       "11  2018  2018-12-01           201"
      ]
     },
     "execution_count": 8,
     "metadata": {},
     "output_type": "execute_result"
    }
   ],
   "source": [
    "df.head(12)"
   ]
  },
  {
   "cell_type": "markdown",
   "id": "d2d40169",
   "metadata": {},
   "source": [
    "### Randomized monthly counts fit annual counts\n",
    "\n",
    "The below comparison confitms that my randomized dataset has created random monthly counts for participation to be \n",
    "used in our visualized data:"
   ]
  },
  {
   "cell_type": "code",
   "execution_count": 9,
   "id": "c84de39f",
   "metadata": {},
   "outputs": [
    {
     "name": "stdout",
     "output_type": "stream",
     "text": [
      "10952 <-- Sum of randomized monthly counts for 2018\n",
      "10952 <-- Count from the created annual variables at the top\n"
     ]
    }
   ],
   "source": [
    "print(df.query('Yr == 2018').Participants.sum(), '<-- Sum of randomized monthly counts for 2018')\n",
    "print(ps_dict[2018], '<-- Count from the created annual variables at the top')"
   ]
  },
  {
   "cell_type": "code",
   "execution_count": 10,
   "id": "40601d27",
   "metadata": {},
   "outputs": [
    {
     "name": "stdout",
     "output_type": "stream",
     "text": [
      "19853 <-- Sum of randomized monthly counts for 2021\n",
      "19853 <-- Count from the created annual variables at the top\n"
     ]
    }
   ],
   "source": [
    "print(df.query('Yr == 2021').Participants.sum(), '<-- Sum of randomized monthly counts for 2021')\n",
    "print(ps_dict[2021], '<-- Count from the created annual variables at the top')"
   ]
  },
  {
   "cell_type": "code",
   "execution_count": 11,
   "id": "2630826e",
   "metadata": {},
   "outputs": [
    {
     "data": {
      "text/html": [
       "<div>\n",
       "<style scoped>\n",
       "    .dataframe tbody tr th:only-of-type {\n",
       "        vertical-align: middle;\n",
       "    }\n",
       "\n",
       "    .dataframe tbody tr th {\n",
       "        vertical-align: top;\n",
       "    }\n",
       "\n",
       "    .dataframe thead th {\n",
       "        text-align: right;\n",
       "    }\n",
       "</style>\n",
       "<table border=\"1\" class=\"dataframe\">\n",
       "  <thead>\n",
       "    <tr style=\"text-align: right;\">\n",
       "      <th></th>\n",
       "      <th>Date</th>\n",
       "      <th>Participants</th>\n",
       "    </tr>\n",
       "  </thead>\n",
       "  <tbody>\n",
       "    <tr>\n",
       "      <th>0</th>\n",
       "      <td>2018-01-01</td>\n",
       "      <td>1264</td>\n",
       "    </tr>\n",
       "    <tr>\n",
       "      <th>1</th>\n",
       "      <td>2018-02-01</td>\n",
       "      <td>2560</td>\n",
       "    </tr>\n",
       "    <tr>\n",
       "      <th>2</th>\n",
       "      <td>2018-03-01</td>\n",
       "      <td>1998</td>\n",
       "    </tr>\n",
       "    <tr>\n",
       "      <th>3</th>\n",
       "      <td>2018-04-01</td>\n",
       "      <td>99</td>\n",
       "    </tr>\n",
       "    <tr>\n",
       "      <th>4</th>\n",
       "      <td>2018-05-01</td>\n",
       "      <td>837</td>\n",
       "    </tr>\n",
       "  </tbody>\n",
       "</table>\n",
       "</div>"
      ],
      "text/plain": [
       "         Date  Participants\n",
       "0  2018-01-01          1264\n",
       "1  2018-02-01          2560\n",
       "2  2018-03-01          1998\n",
       "3  2018-04-01            99\n",
       "4  2018-05-01           837"
      ]
     },
     "execution_count": 11,
     "metadata": {},
     "output_type": "execute_result"
    }
   ],
   "source": [
    "df.drop('Yr', axis=1, inplace=True)\n",
    "df.head()"
   ]
  },
  {
   "cell_type": "markdown",
   "id": "ba419779",
   "metadata": {},
   "source": [
    "### Convert Random Counts to Actual Responses\n",
    "Finally, I take the monthly counts and assign them each an individual \"response\" by state to align with the number of responses each month/year randomized above."
   ]
  },
  {
   "cell_type": "code",
   "execution_count": 12,
   "id": "66f7f58e",
   "metadata": {},
   "outputs": [],
   "source": [
    "test = dict(zip(df.Date, df.Participants))\n",
    "states = [ 'AK', 'AL', 'AR', 'AZ', 'CA', 'CO', 'CT', 'DC', 'DE', 'FL', 'GA',\n",
    "           'HI', 'IA', 'ID', 'IL', 'IN', 'KS', 'KY', 'LA', 'MA', 'MD', 'ME',\n",
    "           'MI', 'MN', 'MO', 'MS', 'MT', 'NC', 'ND', 'NE', 'NH', 'NJ', 'NM',\n",
    "           'NV', 'NY', 'OH', 'OK', 'OR', 'PA', 'RI', 'SC', 'SD', 'TN', 'TX',\n",
    "           'UT', 'VA', 'VT', 'WA', 'WI', 'WV', 'WY']"
   ]
  },
  {
   "cell_type": "code",
   "execution_count": 13,
   "id": "92a1413e",
   "metadata": {},
   "outputs": [],
   "source": [
    "all_part_states_list = []\n",
    "all_part_dates_list = []\n",
    "\n",
    "for i,j in test.items():\n",
    "    for count in range(j):\n",
    "        random.choice(states)\n",
    "        all_part_states_list.append(random.choice(states))\n",
    "        all_part_dates_list.append(i)\n"
   ]
  },
  {
   "cell_type": "code",
   "execution_count": 15,
   "id": "de3ffb9a",
   "metadata": {},
   "outputs": [],
   "source": [
    "df2 = pd.DataFrame()\n",
    "df2['month_yr'] = all_part_dates_list\n",
    "df2['state'] = all_part_states_list"
   ]
  },
  {
   "cell_type": "code",
   "execution_count": 16,
   "id": "f0f3fd1c",
   "metadata": {},
   "outputs": [
    {
     "data": {
      "text/html": [
       "<div>\n",
       "<style scoped>\n",
       "    .dataframe tbody tr th:only-of-type {\n",
       "        vertical-align: middle;\n",
       "    }\n",
       "\n",
       "    .dataframe tbody tr th {\n",
       "        vertical-align: top;\n",
       "    }\n",
       "\n",
       "    .dataframe thead th {\n",
       "        text-align: right;\n",
       "    }\n",
       "</style>\n",
       "<table border=\"1\" class=\"dataframe\">\n",
       "  <thead>\n",
       "    <tr style=\"text-align: right;\">\n",
       "      <th></th>\n",
       "      <th>month_yr</th>\n",
       "      <th>state</th>\n",
       "    </tr>\n",
       "  </thead>\n",
       "  <tbody>\n",
       "    <tr>\n",
       "      <th>0</th>\n",
       "      <td>2018-01-01</td>\n",
       "      <td>OK</td>\n",
       "    </tr>\n",
       "    <tr>\n",
       "      <th>1</th>\n",
       "      <td>2018-01-01</td>\n",
       "      <td>PA</td>\n",
       "    </tr>\n",
       "    <tr>\n",
       "      <th>2</th>\n",
       "      <td>2018-01-01</td>\n",
       "      <td>VA</td>\n",
       "    </tr>\n",
       "    <tr>\n",
       "      <th>3</th>\n",
       "      <td>2018-01-01</td>\n",
       "      <td>ME</td>\n",
       "    </tr>\n",
       "    <tr>\n",
       "      <th>4</th>\n",
       "      <td>2018-01-01</td>\n",
       "      <td>AZ</td>\n",
       "    </tr>\n",
       "  </tbody>\n",
       "</table>\n",
       "</div>"
      ],
      "text/plain": [
       "     month_yr state\n",
       "0  2018-01-01    OK\n",
       "1  2018-01-01    PA\n",
       "2  2018-01-01    VA\n",
       "3  2018-01-01    ME\n",
       "4  2018-01-01    AZ"
      ]
     },
     "execution_count": 16,
     "metadata": {},
     "output_type": "execute_result"
    }
   ],
   "source": [
    "df2.head() "
   ]
  },
  {
   "cell_type": "code",
   "execution_count": 17,
   "id": "25740cd8",
   "metadata": {},
   "outputs": [
    {
     "data": {
      "text/plain": [
       "(60972, 2)"
      ]
     },
     "execution_count": 17,
     "metadata": {},
     "output_type": "execute_result"
    }
   ],
   "source": [
    "df2.shape"
   ]
  },
  {
   "cell_type": "markdown",
   "id": "446c8258",
   "metadata": {},
   "source": [
    "### Export the dataset to CSV to use in Tableau"
   ]
  },
  {
   "cell_type": "code",
   "execution_count": 18,
   "id": "b1bdb6f0",
   "metadata": {},
   "outputs": [],
   "source": [
    "df2.to_csv('pride_study_participation.csv', index=False)\n"
   ]
  },
  {
   "cell_type": "markdown",
   "id": "81960e79",
   "metadata": {},
   "source": [
    "*Known participant numbers gathered from Journal of the American Medical Informatics Association, 2019, Vol. 26, No.8-9, pg.745-746"
   ]
  }
 ],
 "metadata": {
  "kernelspec": {
   "display_name": "Python 3 (ipykernel)",
   "language": "python",
   "name": "python3"
  },
  "language_info": {
   "codemirror_mode": {
    "name": "ipython",
    "version": 3
   },
   "file_extension": ".py",
   "mimetype": "text/x-python",
   "name": "python",
   "nbconvert_exporter": "python",
   "pygments_lexer": "ipython3",
   "version": "3.9.7"
  }
 },
 "nbformat": 4,
 "nbformat_minor": 5
}
