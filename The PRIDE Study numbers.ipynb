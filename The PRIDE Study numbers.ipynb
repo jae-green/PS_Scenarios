{
 "cells": [
  {
   "cell_type": "markdown",
   "id": "0fbfc16d",
   "metadata": {},
   "source": [
    "# Scenario 2 - Randomized counts for Tableau\n",
    "### For the Digital Health Research Infrastructure Specialist Position\n",
    "\n",
    "**Jessa Green  |  jessa@jessagreen.com  |  (920) 850-4950  |  [My LinkedIn Profile](https://www.linkedin.com/in/jessagreen/)**\n",
    "\n",
    "Below is the process I followed to create a fictional dataset based on numbers I was able to gather from your public information. This dataset was used to populate the tables presented in the Tableau dashboard provided as the solution to Scenario 2 in the interview process.\n",
    "\n",
    "> Note: These are not real data or numbers for The PRIDE Study. Everything shown here is a fictional scenario based a few real-world numbers I gathered."
   ]
  },
  {
   "cell_type": "code",
   "execution_count": 50,
   "id": "44736d60",
   "metadata": {},
   "outputs": [],
   "source": [
    "# Import needed libraries/packages\n",
    "import pandas as pd\n",
    "import numpy as np\n",
    "import random\n",
    "import calendar"
   ]
  },
  {
   "cell_type": "code",
   "execution_count": 6,
   "id": "bddd0159",
   "metadata": {},
   "outputs": [
    {
     "name": "stdout",
     "output_type": "stream",
     "text": [
      "This gives us a 'full year' response rate of 0.523 to use for 2018 AQ\n"
     ]
    }
   ],
   "source": [
    "# Create variables based on publicly known PRIDE Studies numbers\n",
    "\n",
    "# Participant mid-year counts from medical journal\n",
    "ps_mid18 = 10952\n",
    "ps_mid19 = 13731\n",
    "# Fictional participant counts created\n",
    "ps_mid20 = 16337\n",
    "ps_mid21 = 19952\n",
    "# Participant count shown in my PS account dashboard on 2022-01-21\n",
    "ps22 = 23952\n",
    "\n",
    "\n",
    "# The PRIDE Study response percentage for the 2017 AQ\n",
    "aq17 = 0.658\n",
    "# The PRIDE Study response percentage for the 2018 AQ (11 month window)\n",
    "aq18pt = 0.479\n",
    "# Create a 12-month percentage based on a basic average\n",
    "aq18 = (aq18pt / 11) * 12\n",
    "print(\"This gives us a 'full year' response rate of {} to use for 2018 AQ\".format(round(ap18, 3)))"
   ]
  },
  {
   "cell_type": "code",
   "execution_count": 7,
   "id": "d3f203a5",
   "metadata": {},
   "outputs": [
    {
     "name": "stdout",
     "output_type": "stream",
     "text": [
      "This gives us response rates of: \n",
      "2019 AQ: 0.560 \n",
      "2020 AQ: 0.544 \n",
      "2021 AQ: 0.731\n"
     ]
    }
   ],
   "source": [
    "# Create fictional response rates for each year post 2018\n",
    "\n",
    "aq19 = np.random.uniform((aq18-0.12), (aq17+0.12))\n",
    "aq20 = np.random.uniform((aq18-0.12), (aq17+0.12))\n",
    "aq21 = np.random.uniform((aq18-0.12), (aq17+0.12))\n",
    "\n",
    "print(\"This gives us response rates of: \\n2019 AQ: {:.3f} \\n2020 AQ: {:.3f} \\n2021 AQ: {:.3f}\".format(aq19, aq20, aq21))\n"
   ]
  },
  {
   "cell_type": "markdown",
   "id": "43594a17",
   "metadata": {},
   "source": [
    "### Create function to generate a set of monthly counts\n",
    "The below function will generate a set of 12 random counts that will total a given amount when summed."
   ]
  },
  {
   "cell_type": "code",
   "execution_count": 9,
   "id": "4d749937",
   "metadata": {},
   "outputs": [],
   "source": [
    "# Now create fictional monthly response counts based on annual numbers\n",
    "\n",
    "def gen_monthly_counts(n, total):\n",
    "# Return a randomly chosen list of n positive integers summing to total.\n",
    "    dividers = sorted(random.sample(range(1, total), n - 1))\n",
    "    return [a - b for a, b in zip(dividers + [total], [0] + dividers)]\n"
   ]
  },
  {
   "cell_type": "code",
   "execution_count": 10,
   "id": "01c68ac4",
   "metadata": {},
   "outputs": [],
   "source": [
    "# Create dictionary of years and counts to create our dataset for Tableau\n",
    "ps_dict = {2018: ps_mid18, 2019: ps_mid19, 2020: ps_mid20, 2021: ps_mid21}\n"
   ]
  },
  {
   "cell_type": "markdown",
   "id": "08e52cc9",
   "metadata": {},
   "source": [
    "### Create the dataset contents\n",
    "Here we generate the entire lists consisting of each of the years, the months, and the participation counts using the monthly randomizer function so that our annual counts match our summed monthly counts for each year."
   ]
  },
  {
   "cell_type": "code",
   "execution_count": 62,
   "id": "942860ca",
   "metadata": {},
   "outputs": [],
   "source": [
    "month_counts = []\n",
    "month_years = []\n",
    "month_names = []\n",
    "\n",
    "for key,value in ps_dict.items():\n",
    "    month_counts.extend(gen_monthly_counts(12, value))\n",
    "    for i in range(12):      \n",
    "        month_years.append(key)\n",
    "        month_names.append(calendar.month_name[i+1])\n"
   ]
  },
  {
   "cell_type": "code",
   "execution_count": 64,
   "id": "ec1a7b9b",
   "metadata": {},
   "outputs": [],
   "source": [
    "df = pd.DataFrame(list(zip(month_years, month_names, month_counts)))\n",
    "df.columns =['Year', 'Month', 'Participants']"
   ]
  },
  {
   "cell_type": "code",
   "execution_count": 65,
   "id": "d77ee70c",
   "metadata": {},
   "outputs": [
    {
     "data": {
      "text/html": [
       "<div>\n",
       "<style scoped>\n",
       "    .dataframe tbody tr th:only-of-type {\n",
       "        vertical-align: middle;\n",
       "    }\n",
       "\n",
       "    .dataframe tbody tr th {\n",
       "        vertical-align: top;\n",
       "    }\n",
       "\n",
       "    .dataframe thead th {\n",
       "        text-align: right;\n",
       "    }\n",
       "</style>\n",
       "<table border=\"1\" class=\"dataframe\">\n",
       "  <thead>\n",
       "    <tr style=\"text-align: right;\">\n",
       "      <th></th>\n",
       "      <th>Year</th>\n",
       "      <th>Month</th>\n",
       "      <th>Participants</th>\n",
       "    </tr>\n",
       "  </thead>\n",
       "  <tbody>\n",
       "    <tr>\n",
       "      <th>0</th>\n",
       "      <td>2018</td>\n",
       "      <td>January</td>\n",
       "      <td>2664</td>\n",
       "    </tr>\n",
       "    <tr>\n",
       "      <th>1</th>\n",
       "      <td>2018</td>\n",
       "      <td>February</td>\n",
       "      <td>312</td>\n",
       "    </tr>\n",
       "    <tr>\n",
       "      <th>2</th>\n",
       "      <td>2018</td>\n",
       "      <td>March</td>\n",
       "      <td>2124</td>\n",
       "    </tr>\n",
       "    <tr>\n",
       "      <th>3</th>\n",
       "      <td>2018</td>\n",
       "      <td>April</td>\n",
       "      <td>384</td>\n",
       "    </tr>\n",
       "    <tr>\n",
       "      <th>4</th>\n",
       "      <td>2018</td>\n",
       "      <td>May</td>\n",
       "      <td>901</td>\n",
       "    </tr>\n",
       "    <tr>\n",
       "      <th>5</th>\n",
       "      <td>2018</td>\n",
       "      <td>June</td>\n",
       "      <td>786</td>\n",
       "    </tr>\n",
       "    <tr>\n",
       "      <th>6</th>\n",
       "      <td>2018</td>\n",
       "      <td>July</td>\n",
       "      <td>1369</td>\n",
       "    </tr>\n",
       "    <tr>\n",
       "      <th>7</th>\n",
       "      <td>2018</td>\n",
       "      <td>August</td>\n",
       "      <td>347</td>\n",
       "    </tr>\n",
       "    <tr>\n",
       "      <th>8</th>\n",
       "      <td>2018</td>\n",
       "      <td>September</td>\n",
       "      <td>505</td>\n",
       "    </tr>\n",
       "    <tr>\n",
       "      <th>9</th>\n",
       "      <td>2018</td>\n",
       "      <td>October</td>\n",
       "      <td>439</td>\n",
       "    </tr>\n",
       "    <tr>\n",
       "      <th>10</th>\n",
       "      <td>2018</td>\n",
       "      <td>November</td>\n",
       "      <td>795</td>\n",
       "    </tr>\n",
       "    <tr>\n",
       "      <th>11</th>\n",
       "      <td>2018</td>\n",
       "      <td>December</td>\n",
       "      <td>326</td>\n",
       "    </tr>\n",
       "  </tbody>\n",
       "</table>\n",
       "</div>"
      ],
      "text/plain": [
       "    Year      Month  Participants\n",
       "0   2018    January          2664\n",
       "1   2018   February           312\n",
       "2   2018      March          2124\n",
       "3   2018      April           384\n",
       "4   2018        May           901\n",
       "5   2018       June           786\n",
       "6   2018       July          1369\n",
       "7   2018     August           347\n",
       "8   2018  September           505\n",
       "9   2018    October           439\n",
       "10  2018   November           795\n",
       "11  2018   December           326"
      ]
     },
     "execution_count": 65,
     "metadata": {},
     "output_type": "execute_result"
    }
   ],
   "source": [
    "df.head(12)"
   ]
  },
  {
   "cell_type": "markdown",
   "id": "d2d40169",
   "metadata": {},
   "source": [
    "### Randomized monthly counts fit annual counts\n",
    "\n",
    "The below comparison confitms that my randomized dataset has created random monthly counts for participation to be used in our visualized data:"
   ]
  },
  {
   "cell_type": "code",
   "execution_count": 66,
   "id": "c84de39f",
   "metadata": {},
   "outputs": [
    {
     "name": "stdout",
     "output_type": "stream",
     "text": [
      "10952 <-- Sum of randomized monthly counts for 2018\n",
      "10952 <-- Count from the created annual variables at the top\n"
     ]
    }
   ],
   "source": [
    "print(df.query('Year == 2018').Participants.sum(), '<-- Sum of randomized monthly counts for 2018')\n",
    "print(ps_dict[2018], '<-- Count from the created annual variables at the top')"
   ]
  },
  {
   "cell_type": "markdown",
   "id": "446c8258",
   "metadata": {},
   "source": [
    "### Export the dataset to CSV to use in Tableau"
   ]
  },
  {
   "cell_type": "code",
   "execution_count": 67,
   "id": "b1bdb6f0",
   "metadata": {},
   "outputs": [],
   "source": [
    "df.to_csv('pride_study_participation.csv', index=False)\n"
   ]
  },
  {
   "cell_type": "markdown",
   "id": "81960e79",
   "metadata": {},
   "source": [
    "*Known participant numbers gathered from Journal of the American Medical Informatics Association, 2019, Vol. 26, No.8-9, pg.745-746"
   ]
  }
 ],
 "metadata": {
  "kernelspec": {
   "display_name": "Python 3 (ipykernel)",
   "language": "python",
   "name": "python3"
  },
  "language_info": {
   "codemirror_mode": {
    "name": "ipython",
    "version": 3
   },
   "file_extension": ".py",
   "mimetype": "text/x-python",
   "name": "python",
   "nbconvert_exporter": "python",
   "pygments_lexer": "ipython3",
   "version": "3.9.7"
  }
 },
 "nbformat": 4,
 "nbformat_minor": 5
}
