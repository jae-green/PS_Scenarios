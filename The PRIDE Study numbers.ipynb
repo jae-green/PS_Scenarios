{
 "cells": [
  {
   "cell_type": "markdown",
   "id": "0fbfc16d",
   "metadata": {},
   "source": [
    "# Scenario 2 - Randomized counts for Tableau\n",
    "### For the Digital Health Research Infrastructure Specialist Position\n",
    "\n",
    "**Jessa Green  |  jessa@jessagreen.com  |  (920) 850-4950  |  [My LinkedIn Profile](https://www.linkedin.com/in/jessagreen/)**\n",
    "\n",
    "Below is the process I followed to create a fictional dataset based on numbers I was able to gather from your public information. This dataset was used to populate the tables presented in the Tableau dashboard provided as the solution to Scenario 2 in the interview process.\n",
    "\n",
    "> Note: These are not real data or numbers for The PRIDE Study. Everything shown here is a fictional scenario based a few real-world numbers I gathered."
   ]
  },
  {
   "cell_type": "code",
   "execution_count": 1,
   "id": "44736d60",
   "metadata": {},
   "outputs": [],
   "source": [
    "# Import needed libraries/packages\n",
    "import pandas as pd\n",
    "import numpy as np\n",
    "import random\n",
    "from datetime import datetime\n",
    "import calendar"
   ]
  },
  {
   "cell_type": "code",
   "execution_count": 2,
   "id": "bddd0159",
   "metadata": {},
   "outputs": [
    {
     "name": "stdout",
     "output_type": "stream",
     "text": [
      "This gives us a 'full year' response rate of 0.523 to use for 2018 AQ\n"
     ]
    }
   ],
   "source": [
    "# Create variables based on publicly known PRIDE Studies numbers\n",
    "\n",
    "# Participant mid-year counts from medical journal\n",
    "ps_mid18 = 10952\n",
    "ps_mid19 = 13731\n",
    "# Fictional participant counts created\n",
    "ps_mid20 = 16436\n",
    "ps_mid21 = 19853\n",
    "# Participant count shown in my PS account dashboard on 2022-01-21\n",
    "ps22 = 23952\n",
    "\n",
    "\n",
    "# The PRIDE Study response percentage for the 2017 AQ\n",
    "aq17 = 0.658\n",
    "# The PRIDE Study response percentage for the 2018 AQ (11 month window)\n",
    "aq18pt = 0.479\n",
    "# Create a 12-month percentage based on a basic average\n",
    "aq18 = (aq18pt / 11) * 12\n",
    "print(\"This gives us a 'full year' response rate of {} to use for 2018 AQ\".format(round(aq18, 3)))"
   ]
  },
  {
   "cell_type": "code",
   "execution_count": 3,
   "id": "d3f203a5",
   "metadata": {},
   "outputs": [
    {
     "name": "stdout",
     "output_type": "stream",
     "text": [
      "This gives us response rates of: \n",
      "2019 AQ: 0.406 \n",
      "2020 AQ: 0.453 \n",
      "2021 AQ: 0.765\n"
     ]
    }
   ],
   "source": [
    "# Create fictional response rates for each year post 2018\n",
    "\n",
    "aq19 = np.random.uniform((aq18-0.12), (aq17+0.12))\n",
    "aq20 = np.random.uniform((aq18-0.12), (aq17+0.12))\n",
    "aq21 = np.random.uniform((aq18-0.12), (aq17+0.12))\n",
    "\n",
    "print(\"This gives us response rates of: \\n2019 AQ: {:.3f} \\n2020 AQ: {:.3f} \\n2021 AQ: {:.3f}\".format(aq19, aq20, aq21))\n"
   ]
  },
  {
   "cell_type": "markdown",
   "id": "43594a17",
   "metadata": {},
   "source": [
    "### Create function to generate a set of monthly counts\n",
    "The below function will generate a set of 12 random counts that will total a given amount when summed."
   ]
  },
  {
   "cell_type": "code",
   "execution_count": 4,
   "id": "4d749937",
   "metadata": {},
   "outputs": [],
   "source": [
    "# Now create fictional monthly response counts based on annual numbers\n",
    "\n",
    "def gen_monthly_counts(n, total):\n",
    "# Return a randomly chosen list of n positive integers summing to total.\n",
    "    dividers = sorted(random.sample(range(1, total), n - 1))\n",
    "    return [a - b for a, b in zip(dividers + [total], [0] + dividers)]\n"
   ]
  },
  {
   "cell_type": "code",
   "execution_count": 5,
   "id": "01c68ac4",
   "metadata": {},
   "outputs": [],
   "source": [
    "# Create dictionary of years and counts to create our dataset for Tableau\n",
    "ps_dict = {2018: ps_mid18, 2019: ps_mid19, 2020: ps_mid20, 2021: ps_mid21}\n"
   ]
  },
  {
   "cell_type": "markdown",
   "id": "08e52cc9",
   "metadata": {},
   "source": [
    "### Create the dataset contents\n",
    "Here we generate the entire lists consisting of each of the years, the months, and the participation counts using the monthly randomizer function so that our annual counts match our summed monthly counts for each year."
   ]
  },
  {
   "cell_type": "code",
   "execution_count": 6,
   "id": "942860ca",
   "metadata": {},
   "outputs": [],
   "source": [
    "month_counts = []\n",
    "month_years = []\n",
    "just_years = []\n",
    "\n",
    "for key,value in ps_dict.items():\n",
    "    month_counts.extend(gen_monthly_counts(12, value))\n",
    "    for i in range(12):      \n",
    "        new_date = datetime.strptime((str(i+1) + '/' + str(key)),'%m/%Y').date()\n",
    "        month_years.append(new_date)\n",
    "        just_years.append(key)\n"
   ]
  },
  {
   "cell_type": "code",
   "execution_count": 7,
   "id": "ec1a7b9b",
   "metadata": {},
   "outputs": [],
   "source": [
    "df = pd.DataFrame(list(zip(just_years, month_years, month_counts)))\n",
    "df.columns =['Yr', 'Date', 'Participants']"
   ]
  },
  {
   "cell_type": "code",
   "execution_count": 8,
   "id": "d77ee70c",
   "metadata": {},
   "outputs": [
    {
     "data": {
      "text/html": [
       "<div>\n",
       "<style scoped>\n",
       "    .dataframe tbody tr th:only-of-type {\n",
       "        vertical-align: middle;\n",
       "    }\n",
       "\n",
       "    .dataframe tbody tr th {\n",
       "        vertical-align: top;\n",
       "    }\n",
       "\n",
       "    .dataframe thead th {\n",
       "        text-align: right;\n",
       "    }\n",
       "</style>\n",
       "<table border=\"1\" class=\"dataframe\">\n",
       "  <thead>\n",
       "    <tr style=\"text-align: right;\">\n",
       "      <th></th>\n",
       "      <th>Yr</th>\n",
       "      <th>Date</th>\n",
       "      <th>Participants</th>\n",
       "    </tr>\n",
       "  </thead>\n",
       "  <tbody>\n",
       "    <tr>\n",
       "      <th>0</th>\n",
       "      <td>2018</td>\n",
       "      <td>2018-01-01</td>\n",
       "      <td>120</td>\n",
       "    </tr>\n",
       "    <tr>\n",
       "      <th>1</th>\n",
       "      <td>2018</td>\n",
       "      <td>2018-02-01</td>\n",
       "      <td>3146</td>\n",
       "    </tr>\n",
       "    <tr>\n",
       "      <th>2</th>\n",
       "      <td>2018</td>\n",
       "      <td>2018-03-01</td>\n",
       "      <td>50</td>\n",
       "    </tr>\n",
       "    <tr>\n",
       "      <th>3</th>\n",
       "      <td>2018</td>\n",
       "      <td>2018-04-01</td>\n",
       "      <td>323</td>\n",
       "    </tr>\n",
       "    <tr>\n",
       "      <th>4</th>\n",
       "      <td>2018</td>\n",
       "      <td>2018-05-01</td>\n",
       "      <td>2237</td>\n",
       "    </tr>\n",
       "    <tr>\n",
       "      <th>5</th>\n",
       "      <td>2018</td>\n",
       "      <td>2018-06-01</td>\n",
       "      <td>437</td>\n",
       "    </tr>\n",
       "    <tr>\n",
       "      <th>6</th>\n",
       "      <td>2018</td>\n",
       "      <td>2018-07-01</td>\n",
       "      <td>472</td>\n",
       "    </tr>\n",
       "    <tr>\n",
       "      <th>7</th>\n",
       "      <td>2018</td>\n",
       "      <td>2018-08-01</td>\n",
       "      <td>210</td>\n",
       "    </tr>\n",
       "    <tr>\n",
       "      <th>8</th>\n",
       "      <td>2018</td>\n",
       "      <td>2018-09-01</td>\n",
       "      <td>291</td>\n",
       "    </tr>\n",
       "    <tr>\n",
       "      <th>9</th>\n",
       "      <td>2018</td>\n",
       "      <td>2018-10-01</td>\n",
       "      <td>312</td>\n",
       "    </tr>\n",
       "    <tr>\n",
       "      <th>10</th>\n",
       "      <td>2018</td>\n",
       "      <td>2018-11-01</td>\n",
       "      <td>605</td>\n",
       "    </tr>\n",
       "    <tr>\n",
       "      <th>11</th>\n",
       "      <td>2018</td>\n",
       "      <td>2018-12-01</td>\n",
       "      <td>2749</td>\n",
       "    </tr>\n",
       "  </tbody>\n",
       "</table>\n",
       "</div>"
      ],
      "text/plain": [
       "      Yr        Date  Participants\n",
       "0   2018  2018-01-01           120\n",
       "1   2018  2018-02-01          3146\n",
       "2   2018  2018-03-01            50\n",
       "3   2018  2018-04-01           323\n",
       "4   2018  2018-05-01          2237\n",
       "5   2018  2018-06-01           437\n",
       "6   2018  2018-07-01           472\n",
       "7   2018  2018-08-01           210\n",
       "8   2018  2018-09-01           291\n",
       "9   2018  2018-10-01           312\n",
       "10  2018  2018-11-01           605\n",
       "11  2018  2018-12-01          2749"
      ]
     },
     "execution_count": 8,
     "metadata": {},
     "output_type": "execute_result"
    }
   ],
   "source": [
    "df.head(12)"
   ]
  },
  {
   "cell_type": "markdown",
   "id": "d2d40169",
   "metadata": {},
   "source": [
    "### Randomized monthly counts fit annual counts\n",
    "\n",
    "The below comparison confitms that my randomized dataset has created random monthly counts for participation to be \n",
    "used in our visualized data:"
   ]
  },
  {
   "cell_type": "code",
   "execution_count": 9,
   "id": "c84de39f",
   "metadata": {},
   "outputs": [
    {
     "name": "stdout",
     "output_type": "stream",
     "text": [
      "10952 <-- Sum of randomized monthly counts for 2018\n",
      "10952 <-- Count from the created annual variables at the top\n"
     ]
    }
   ],
   "source": [
    "print(df.query('Yr == 2018').Participants.sum(), '<-- Sum of randomized monthly counts for 2018')\n",
    "print(ps_dict[2018], '<-- Count from the created annual variables at the top')"
   ]
  },
  {
   "cell_type": "code",
   "execution_count": 10,
   "id": "63344819",
   "metadata": {},
   "outputs": [
    {
     "name": "stdout",
     "output_type": "stream",
     "text": [
      "19853 <-- Sum of randomized monthly counts for 2021\n",
      "19853 <-- Count from the created annual variables at the top\n"
     ]
    }
   ],
   "source": [
    "print(df.query('Yr == 2021').Participants.sum(), '<-- Sum of randomized monthly counts for 2021')\n",
    "print(ps_dict[2021], '<-- Count from the created annual variables at the top')"
   ]
  },
  {
   "cell_type": "code",
   "execution_count": 11,
   "id": "f7593e5b",
   "metadata": {},
   "outputs": [
    {
     "data": {
      "text/html": [
       "<div>\n",
       "<style scoped>\n",
       "    .dataframe tbody tr th:only-of-type {\n",
       "        vertical-align: middle;\n",
       "    }\n",
       "\n",
       "    .dataframe tbody tr th {\n",
       "        vertical-align: top;\n",
       "    }\n",
       "\n",
       "    .dataframe thead th {\n",
       "        text-align: right;\n",
       "    }\n",
       "</style>\n",
       "<table border=\"1\" class=\"dataframe\">\n",
       "  <thead>\n",
       "    <tr style=\"text-align: right;\">\n",
       "      <th></th>\n",
       "      <th>Date</th>\n",
       "      <th>Participants</th>\n",
       "    </tr>\n",
       "  </thead>\n",
       "  <tbody>\n",
       "    <tr>\n",
       "      <th>0</th>\n",
       "      <td>2018-01-01</td>\n",
       "      <td>120</td>\n",
       "    </tr>\n",
       "    <tr>\n",
       "      <th>1</th>\n",
       "      <td>2018-02-01</td>\n",
       "      <td>3146</td>\n",
       "    </tr>\n",
       "    <tr>\n",
       "      <th>2</th>\n",
       "      <td>2018-03-01</td>\n",
       "      <td>50</td>\n",
       "    </tr>\n",
       "    <tr>\n",
       "      <th>3</th>\n",
       "      <td>2018-04-01</td>\n",
       "      <td>323</td>\n",
       "    </tr>\n",
       "    <tr>\n",
       "      <th>4</th>\n",
       "      <td>2018-05-01</td>\n",
       "      <td>2237</td>\n",
       "    </tr>\n",
       "  </tbody>\n",
       "</table>\n",
       "</div>"
      ],
      "text/plain": [
       "         Date  Participants\n",
       "0  2018-01-01           120\n",
       "1  2018-02-01          3146\n",
       "2  2018-03-01            50\n",
       "3  2018-04-01           323\n",
       "4  2018-05-01          2237"
      ]
     },
     "execution_count": 11,
     "metadata": {},
     "output_type": "execute_result"
    }
   ],
   "source": [
    "df.drop('Yr', axis=1, inplace=True)\n",
    "df.head()"
   ]
  },
  {
   "cell_type": "markdown",
   "id": "a7e51eb8",
   "metadata": {},
   "source": [
    "### Convert Random Counts to Individual Responses\n",
    "Finally, I take the monthly counts and assign them each individual \"responses\" by state to align with the number of responses each month/year randomized above."
   ]
  },
  {
   "cell_type": "code",
   "execution_count": 12,
   "id": "0f4fe3e2",
   "metadata": {},
   "outputs": [],
   "source": [
    "test = dict(zip(df.Date, df.Participants))\n",
    "state_list = [ 'AK', 'AL', 'AR', 'AZ', 'CA', 'CO', 'CT', 'DC', 'DE', 'FL', 'GA',\n",
    "           'HI', 'IA', 'ID', 'IL', 'IN', 'KS', 'KY', 'LA', 'MA', 'MD', 'ME',\n",
    "           'MI', 'MN', 'MO', 'MS', 'MT', 'NC', 'ND', 'NE', 'NH', 'NJ', 'NM',\n",
    "           'NV', 'NY', 'OH', 'OK', 'OR', 'PA', 'RI', 'SC', 'SD', 'TN', 'TX',\n",
    "           'UT', 'VA', 'VT', 'WA', 'WI', 'WV', 'WY']\n",
    "gid_list = ['Agender', 'Cisgender Man', 'Cisgender Woman', 'Genderqueer', \n",
    "       'Man', 'Non-Binary', 'Questioning', 'Transgender Man', 'Transgender Woman',\n",
    "       'Two-spirit', 'Woman', 'Another gender identity']\n",
    "so_list = ['Asexual', 'Bisexual', 'Gay', 'Lesbian', 'Pansexual', 'Queer',\n",
    "               'Questioning', 'Same-gender loving', 'Straight/Heterosexual', 'Two-spirit', \n",
    "               'Another sexual orientation']"
   ]
  },
  {
   "cell_type": "code",
   "execution_count": 13,
   "id": "0da6b09a",
   "metadata": {},
   "outputs": [
    {
     "name": "stdout",
     "output_type": "stream",
     "text": [
      "40-49\n"
     ]
    }
   ],
   "source": [
    "def age_range(age):\n",
    "    if age < 24:\n",
    "        age_group = '18-23'\n",
    "    elif age < 30:\n",
    "        age_group = '24-29'\n",
    "    elif age < 40:\n",
    "        age_group = '30-39'\n",
    "    elif age < 50:\n",
    "        age_group = '40-49'\n",
    "    elif age < 60:\n",
    "        age_group = '50-59'\n",
    "    elif age < 70:\n",
    "        age_group = '60-69'\n",
    "    elif age < 80:\n",
    "        age_group = '70-79'        \n",
    "    return age_group\n",
    "\n",
    "print(age_range(43))\n"
   ]
  },
  {
   "cell_type": "code",
   "execution_count": 14,
   "id": "fd8b33ee",
   "metadata": {},
   "outputs": [
    {
     "name": "stdout",
     "output_type": "stream",
     "text": [
      "0.4528129937919227\n"
     ]
    }
   ],
   "source": [
    "def get_percent(year):\n",
    "    global percent\n",
    "    if year == 2017:\n",
    "        percent = aq17\n",
    "    elif year == 2018:\n",
    "        percent = aq18\n",
    "    elif year == 2019:\n",
    "        percent = aq19\n",
    "    elif year == 2020:\n",
    "        percent = aq20\n",
    "    elif year == 2021:\n",
    "        percent = aq21\n",
    "    return percent\n",
    "\n",
    "print(get_percent(2020))"
   ]
  },
  {
   "cell_type": "code",
   "execution_count": 24,
   "id": "25ac986e",
   "metadata": {},
   "outputs": [],
   "source": [
    "#all_part_states_list = []\n",
    "#all_part_dates_list = []\n",
    "#all_part_ages_list = []\n",
    "\n",
    "df_list = []\n",
    "counter = 1\n",
    "\n",
    "for i,j in test.items():\n",
    "    for count in range(j):\n",
    "        participant_id = str(counter)\n",
    "        date_joined = i\n",
    "        state = random.choices(state_list)\n",
    "        age = random.choice(range(18,78))\n",
    "        age_group = age_range(age)\n",
    "        curr_gid = random.choices(gid_list)\n",
    "        curr_so = random.choices(so_list)\n",
    "        yr_percent = get_percent(i)\n",
    "        active_status = np.random.choice(2, p=[(1-yr_percent),yr_percent])\n",
    "        counter += 1\n",
    "        \n",
    "        df_list.append({'date_joined': date_joined,\n",
    "                        'participant_id': participant_id,\n",
    "                        'state': state[0],\n",
    "                        'age': age,\n",
    "                        'age_group': age_group,\n",
    "                        'curr_gid': curr_gid[0],\n",
    "                        'curr_so': curr_so[0],\n",
    "                        'active': active_status})\n",
    "        \n",
    "df_full = pd.DataFrame(df_list, columns = ['participant_id', 'date_joined', 'state', 'age', 'age_group',\n",
    "                        'curr_gid', 'curr_so', 'active'])"
   ]
  },
  {
   "cell_type": "code",
   "execution_count": 25,
   "id": "f3b8d768",
   "metadata": {},
   "outputs": [
    {
     "data": {
      "text/html": [
       "<div>\n",
       "<style scoped>\n",
       "    .dataframe tbody tr th:only-of-type {\n",
       "        vertical-align: middle;\n",
       "    }\n",
       "\n",
       "    .dataframe tbody tr th {\n",
       "        vertical-align: top;\n",
       "    }\n",
       "\n",
       "    .dataframe thead th {\n",
       "        text-align: right;\n",
       "    }\n",
       "</style>\n",
       "<table border=\"1\" class=\"dataframe\">\n",
       "  <thead>\n",
       "    <tr style=\"text-align: right;\">\n",
       "      <th></th>\n",
       "      <th>participant_id</th>\n",
       "      <th>date_joined</th>\n",
       "      <th>state</th>\n",
       "      <th>age</th>\n",
       "      <th>age_group</th>\n",
       "      <th>curr_gid</th>\n",
       "      <th>curr_so</th>\n",
       "      <th>active</th>\n",
       "    </tr>\n",
       "  </thead>\n",
       "  <tbody>\n",
       "    <tr>\n",
       "      <th>0</th>\n",
       "      <td>1</td>\n",
       "      <td>2018-01-01</td>\n",
       "      <td>TX</td>\n",
       "      <td>71</td>\n",
       "      <td>70-79</td>\n",
       "      <td>Cisgender Woman</td>\n",
       "      <td>Lesbian</td>\n",
       "      <td>1</td>\n",
       "    </tr>\n",
       "    <tr>\n",
       "      <th>1</th>\n",
       "      <td>2</td>\n",
       "      <td>2018-01-01</td>\n",
       "      <td>NE</td>\n",
       "      <td>64</td>\n",
       "      <td>60-69</td>\n",
       "      <td>Genderqueer</td>\n",
       "      <td>Another sexual orientation</td>\n",
       "      <td>1</td>\n",
       "    </tr>\n",
       "    <tr>\n",
       "      <th>2</th>\n",
       "      <td>3</td>\n",
       "      <td>2018-01-01</td>\n",
       "      <td>VA</td>\n",
       "      <td>39</td>\n",
       "      <td>30-39</td>\n",
       "      <td>Agender</td>\n",
       "      <td>Gay</td>\n",
       "      <td>0</td>\n",
       "    </tr>\n",
       "    <tr>\n",
       "      <th>3</th>\n",
       "      <td>4</td>\n",
       "      <td>2018-01-01</td>\n",
       "      <td>FL</td>\n",
       "      <td>45</td>\n",
       "      <td>40-49</td>\n",
       "      <td>Genderqueer</td>\n",
       "      <td>Two-spirit</td>\n",
       "      <td>1</td>\n",
       "    </tr>\n",
       "    <tr>\n",
       "      <th>4</th>\n",
       "      <td>5</td>\n",
       "      <td>2018-01-01</td>\n",
       "      <td>OR</td>\n",
       "      <td>18</td>\n",
       "      <td>18-23</td>\n",
       "      <td>Genderqueer</td>\n",
       "      <td>Asexual</td>\n",
       "      <td>1</td>\n",
       "    </tr>\n",
       "  </tbody>\n",
       "</table>\n",
       "</div>"
      ],
      "text/plain": [
       "  participant_id date_joined state  age age_group         curr_gid  \\\n",
       "0              1  2018-01-01    TX   71     70-79  Cisgender Woman   \n",
       "1              2  2018-01-01    NE   64     60-69      Genderqueer   \n",
       "2              3  2018-01-01    VA   39     30-39          Agender   \n",
       "3              4  2018-01-01    FL   45     40-49      Genderqueer   \n",
       "4              5  2018-01-01    OR   18     18-23      Genderqueer   \n",
       "\n",
       "                      curr_so  active  \n",
       "0                     Lesbian       1  \n",
       "1  Another sexual orientation       1  \n",
       "2                         Gay       0  \n",
       "3                  Two-spirit       1  \n",
       "4                     Asexual       1  "
      ]
     },
     "execution_count": 25,
     "metadata": {},
     "output_type": "execute_result"
    }
   ],
   "source": [
    "df_full.head() "
   ]
  },
  {
   "cell_type": "code",
   "execution_count": 26,
   "id": "8844ec8a",
   "metadata": {},
   "outputs": [
    {
     "data": {
      "text/plain": [
       "(60972, 8)"
      ]
     },
     "execution_count": 26,
     "metadata": {},
     "output_type": "execute_result"
    }
   ],
   "source": [
    "df_full.shape"
   ]
  },
  {
   "cell_type": "markdown",
   "id": "446c8258",
   "metadata": {},
   "source": [
    "### Export the dataset to CSV to use in Tableau"
   ]
  },
  {
   "cell_type": "code",
   "execution_count": 27,
   "id": "b1bdb6f0",
   "metadata": {},
   "outputs": [],
   "source": [
    "df_full.to_csv('pride_study_participation_new.csv', index=False)\n"
   ]
  },
  {
   "cell_type": "markdown",
   "id": "81960e79",
   "metadata": {},
   "source": [
    "*Known participant numbers gathered from Journal of the American Medical Informatics Association, 2019, Vol. 26, No.8-9, pg.745-746"
   ]
  }
 ],
 "metadata": {
  "kernelspec": {
   "display_name": "Python 3 (ipykernel)",
   "language": "python",
   "name": "python3"
  },
  "language_info": {
   "codemirror_mode": {
    "name": "ipython",
    "version": 3
   },
   "file_extension": ".py",
   "mimetype": "text/x-python",
   "name": "python",
   "nbconvert_exporter": "python",
   "pygments_lexer": "ipython3",
   "version": "3.9.7"
  }
 },
 "nbformat": 4,
 "nbformat_minor": 5
}
